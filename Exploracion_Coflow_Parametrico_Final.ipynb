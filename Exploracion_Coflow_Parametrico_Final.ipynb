{
  "cells": [
    {
      "cell_type": "markdown",
      "metadata": {},
      "source": [
        "# An\u00e1lisis Exploratorio de Datos de Droplets\n",
        "\n",
        "**Objetivo:** Explorar espacialmente los datos de fracci\u00f3n de volumen de un droplet en un sistema coflow, utilizando visualizaciones 2D, 3D y an\u00e1lisis estad\u00edstico.\n",
        "\n",
        "Este notebook carga `vf1_coflow_parametric.txt`, omite comentarios, y presenta:\n",
        "- Estad\u00edsticas descriptivas\n",
        "- Mapas de calor y distribuciones\n",
        "- Visualizaci\u00f3n 3D de la geometr\u00eda y variable volum\u00e9trica\n",
        "- Identificaci\u00f3n de nodos extremos\n"
      ]
    },
    {
      "cell_type": "code",
      "execution_count": null,
      "metadata": {},
      "outputs": [],
      "source": [
        "# Importaci\u00f3n de librer\u00edas\n",
        "import pandas as pd\n",
        "import matplotlib.pyplot as plt\n",
        "from mpl_toolkits.mplot3d import Axes3D\n",
        "%matplotlib inline"
      ]
    },
    {
      "cell_type": "code",
      "execution_count": null,
      "metadata": {},
      "outputs": [],
      "source": [
        "# Carga de datos (omitimos l\u00edneas que empiezan con '%')\n",
        "df = pd.read_csv(\n",
        "    'vf1_coflow_parametric.txt',\n",
        "    delim_whitespace=True,\n",
        "    comment='%',\n",
        "    names=['x', 'y', 'vol_frac']\n",
        ")\n",
        "print(f\"N\u00famero de nodos cargados: {len(df)}\")\n",
        "print(f\"Rango x: {df['x'].min():.2f} a {df['x'].max():.2f}\")\n",
        "print(f\"Rango y: {df['y'].min():.2f} a {df['y'].max():.2f}\")\n",
        "print(f\"Fracci\u00f3n de volumen: {df['vol_frac'].min():.6f} a {df['vol_frac'].max():.6f}\")"
      ]
    },
    {
      "cell_type": "markdown",
      "metadata": {},
      "source": [
        "## Estad\u00edsticas Descriptivas\n",
        "- **Media**, **mediana**, **desviaci\u00f3n** y percentiles de fracci\u00f3n de volumen.\n"
      ]
    },
    {
      "cell_type": "code",
      "execution_count": null,
      "metadata": {},
      "outputs": [],
      "source": [
        "df['vol_frac'].describe(percentiles=[0.01, 0.05, 0.5, 0.95, 0.99])"
      ]
    },
    {
      "cell_type": "markdown",
      "metadata": {},
      "source": [
        "## Visualizaci\u00f3n 2D: Distribuci\u00f3n Espacial\n",
        "Cada punto (x,y) coloreado seg\u00fan la fracci\u00f3n de volumen. Permite ver zonas de mayor concentraci\u00f3n del droplet.\n"
      ]
    },
    {
      "cell_type": "code",
      "execution_count": null,
      "metadata": {},
      "outputs": [],
      "source": [
        "plt.figure(figsize=(8, 6))\n",
        "sc = plt.scatter(df['x'], df['y'], c=df['vol_frac'], cmap='viridis', s=3)\n",
        "plt.colorbar(sc, label='Fracci\u00f3n de Volumen')\n",
        "plt.xlabel('x')\n",
        "plt.ylabel('y')\n",
        "plt.title('Distribuci\u00f3n espacial de la fracci\u00f3n de volumen')\n",
        "plt.grid(alpha=0.3)\n",
        "plt.show()"
      ]
    },
    {
      "cell_type": "markdown",
      "metadata": {},
      "source": [
        "## Histograma de Fracci\u00f3n de Volumen\n",
        "Observamos la distribuci\u00f3n global de la variable volum\u00e9trica.\n"
      ]
    },
    {
      "cell_type": "code",
      "execution_count": null,
      "metadata": {},
      "outputs": [],
      "source": [
        "plt.figure(figsize=(8, 4))\n",
        "plt.hist(df['vol_frac'], bins=50, edgecolor='black')\n",
        "plt.xlabel('Fracci\u00f3n de Volumen')\n",
        "plt.ylabel('Frecuencia')\n",
        "plt.title('Histograma de Fracci\u00f3n de Volumen')\n",
        "plt.grid(alpha=0.3)\n",
        "plt.show()"
      ]
    },
    {
      "cell_type": "markdown",
      "metadata": {},
      "source": [
        "## Nodos Extremos\n",
        "- Nodo con **m\u00e1xima** fracci\u00f3n de volumen (centro del droplet).\n",
        "- Nodo con **m\u00ednima** fracci\u00f3n de volumen (fuera del droplet)."
      ]
    },
    {
      "cell_type": "code",
      "execution_count": null,
      "metadata": {},
      "outputs": [],
      "source": [
        "max_node = df.loc[df['vol_frac'].idxmax()]\n",
        "min_node = df.loc[df['vol_frac'].idxmin()]\n",
        "print('Nodo m\u00e1ximo:', max_node.to_dict())\n",
        "print('Nodo m\u00ednimo:', min_node.to_dict())"
      ]
    },
    {
      "cell_type": "markdown",
      "metadata": {},
      "source": [
        "## Visualizaci\u00f3n 3D: Fracci\u00f3n de Volumen en el Plano XY\n",
        "Representamos la fracci\u00f3n de volumen como coordenada Z para entender la forma del droplet."
      ]
    },
    {
      "cell_type": "code",
      "execution_count": null,
      "metadata": {},
      "outputs": [],
      "source": [
        "fig = plt.figure(figsize=(10, 7))\n",
        "ax = fig.add_subplot(111, projection='3d')\n",
        "p = ax.scatter(df['x'], df['y'], df['vol_frac'], c=df['vol_frac'], cmap='viridis', s=2)\n",
        "ax.set_xlabel('x')\n",
        "ax.set_ylabel('y')\n",
        "ax.set_zlabel('Fracci\u00f3n de Volumen')\n",
        "fig.colorbar(p, ax=ax, label='Vol_frac')\n",
        "plt.title('Visualizaci\u00f3n 3D de la fracci\u00f3n de volumen')\n",
        "plt.show()"
      ]
    },
    {
      "cell_type": "markdown",
      "metadata": {},
      "source": [
        "### Observaciones y siguientes pasos\n",
        "- La forma del droplet se aprecia en 3D, mostrando picos en la zona central.\n",
        "- En la entrega siguiente, podremos automatizar extracci\u00f3n de perfiles radial y temporal, as\u00ed como configurar la visualizaci\u00f3n inmersiva.\n"
      ]
    }
  ],
  "metadata": {
    "kernelspec": {
      "display_name": "Python 3",
      "language": "python",
      "name": "python3"
    },
    "language_info": {
      "name": "python",
      "version": ""
    }
  },
  "nbformat": 4,
  "nbformat_minor": 2
}