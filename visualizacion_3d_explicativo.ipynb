{
 "cells": [
  {
   "cell_type": "markdown",
   "id": "6d89d30e",
   "metadata": {},
   "source": [
    "# Notebook de Visualización 3D de Droplets\n",
    "Este notebook explica paso a paso el pipeline para generar, exportar y visualizar el volumen de droplets a partir de datos de simulación."
   ]
  },
  {
   "cell_type": "markdown",
   "id": "719ffc8d",
   "metadata": {},
   "source": [
    "## 1. Carga de datos\n",
    "Ignores las líneas que comienzan con `%` y cargamos las columnas `x`, `y`, `vol_frac`."
   ]
  },
  {
   "cell_type": "code",
   "execution_count": null,
   "id": "4f6c693d",
   "metadata": {},
   "outputs": [],
   "source": [
    "import numpy as np\n",
    "# Carga los datos ignorando líneas con '%'\n",
    "data = np.loadtxt('vf1_coflow_parametric.txt', comments='%')\n",
    "x, y, vol_frac = data[:,0], data[:,1], data[:,2]\n",
    "print(f\"Datos cargados: {x.size} puntos\")"
   ]
  },
  {
   "cell_type": "markdown",
   "id": "fb922761",
   "metadata": {},
   "source": [
    "## 2. Definición de grilla 2D\n",
    "Creamos una grilla regular `(nx × ny)` sobre el dominio XY para interpolar los valores."
   ]
  },
  {
   "cell_type": "code",
   "execution_count": null,
   "id": "aec83232",
   "metadata": {},
   "outputs": [],
   "source": [
    "from scipy.interpolate import griddata\n",
    "# Parámetros de resolución\n",
    "nx, ny = 200, 200\n",
    "# Generación de coordenadas de la grilla\n",
    "xi = np.linspace(x.min(), x.max(), nx)\n",
    "yi = np.linspace(y.min(), y.max(), ny)\n",
    "X, Y = np.meshgrid(xi, yi)\n",
    "print(f\"Grilla creada: {nx} × {ny}\")"
   ]
  },
  {
   "cell_type": "markdown",
   "id": "c198123b",
   "metadata": {},
   "source": [
    "## 3. Interpolación de `vol_frac`\n",
    "Interpolamos los datos dispersos sobre la grilla con método cúbico y limitamos valores a [0,1]."
   ]
  },
  {
   "cell_type": "code",
   "execution_count": null,
   "id": "1a3bd99c",
   "metadata": {},
   "outputs": [],
   "source": [
    "points = np.vstack((x, y)).T\n",
    "vol_frac_2d = griddata(points, vol_frac, (X, Y), method='cubic', fill_value=0.0)\n",
    "vol_frac_2d = np.clip(vol_frac_2d, 0.0, 1.0)\n",
    "print(f\"Interpolación completa, min={vol_frac_2d.min()}, max={vol_frac_2d.max()}\")"
   ]
  },
  {
   "cell_type": "markdown",
   "id": "88bff4df",
   "metadata": {},
   "source": [
    "## 4. Expansión a volumen 3D\n",
    "Aplicamos `repeat` para generar un volumen de `nz` slices idénticos en Z."
   ]
  },
  {
   "cell_type": "code",
   "execution_count": null,
   "id": "5edf4e40",
   "metadata": {},
   "outputs": [],
   "source": [
    "# Número de slices en Z\n",
    "nz = 100\n",
    "vol_3d = np.repeat(vol_frac_2d[np.newaxis, :, :], nz, axis=0)\n",
    "print(f\"Volumen 3D creado: {vol_3d.shape}\")"
   ]
  },
  {
   "cell_type": "markdown",
   "id": "0a043bfe",
   "metadata": {},
   "source": [
    "## 5. Exportación de volumen\n",
    "- Guardamos RAW binario (`uint8`).\n",
    "- Exportamos cada slice como PNG en la carpeta `slices/`."
   ]
  },
  {
   "cell_type": "code",
   "execution_count": null,
   "id": "a08d6c23",
   "metadata": {},
   "outputs": [],
   "source": [
    "import os, imageio\n",
    "# Convertir a uint8\n",
    "vol_uint8 = (vol_3d * 255).astype(np.uint8)\n",
    "# Raw\n",
    "vol_uint8.tofile('droplet_volume.raw')\n",
    "print('✔️ Archivo raw guardado: droplet_volume.raw')\n",
    "# PNG slices\n",
    "os.makedirs('slices', exist_ok=True)\n",
    "for i in range(nz):\n",
    "    imageio.imwrite(f'slices/slice_{i:03d}.png', vol_uint8[i])\n",
    "print(f\"✔️ Se exportaron {nz} slices en 'slices/'\")"
   ]
  },
  {
   "cell_type": "markdown",
   "id": "15485185",
   "metadata": {},
   "source": [
    "## 6. Visualización avanzada\n",
    "### 6.1 Isosuperficie con `marching_cubes`\n",
    "Extraemos una malla de nivel `vol_frac=0.5`."
   ]
  },
  {
   "cell_type": "code",
   "execution_count": null,
   "id": "151f68ab",
   "metadata": {},
   "outputs": [],
   "source": [
    "from skimage.measure import marching_cubes\n",
    "import matplotlib.pyplot as plt\n",
    "from mpl_toolkits.mplot3d.art3d import Poly3DCollection\n",
    "\n",
    "level = 0.5\n",
    "verts, faces, normals, values = marching_cubes(vol_3d, level=level)\n",
    "fig = plt.figure(figsize=(8, 6))\n",
    "ax = fig.add_subplot(111, projection='3d')\n",
    "mesh = Poly3DCollection(verts[faces], alpha=0.7)\n",
    "mesh.set_facecolor([0.7, 0.7, 1])\n",
    "ax.add_collection3d(mesh)\n",
    "ax.set_xlim(0, nx)\n",
    "ax.set_ylim(0, ny)\n",
    "ax.set_zlim(0, nz)\n",
    "ax.set_xlabel('X')\n",
    "ax.set_ylabel('Y')\n",
    "ax.set_zlabel('Z')\n",
    "ax.set_title(f'Isosuperficie vol_frac={level}')\n",
    "plt.tight_layout()\n",
    "plt.show()"
   ]
  },
  {
   "cell_type": "markdown",
   "id": "7945097f",
   "metadata": {},
   "source": [
    "### 6.2 Animación de slices Z\n",
    "Creamos un GIF recorriendo capas Z con colormap `inferno`."
   ]
  },
  {
   "cell_type": "code",
   "execution_count": null,
   "id": "2462ff72",
   "metadata": {},
   "outputs": [],
   "source": [
    "import matplotlib.animation as animation\n",
    "fig, ax = plt.subplots(figsize=(5,5))\n",
    "im = ax.imshow(vol_frac_2d, cmap='inferno', origin='lower', vmin=0, vmax=1, animated=True)\n",
    "ax.set_title('Slice Z=0')\n",
    "def update(frame):\n",
    "    im.set_array(vol_3d[frame])\n",
    "    ax.set_title(f'Slice Z={frame}/{nz-1}')\n",
    "    return (im,)\n",
    "ani = animation.FuncAnimation(fig, update, frames=range(0, nz, max(1, nz//50)), blit=True, interval=100)\n",
    "ani.save('droplet_slices.gif', writer='pillow', fps=10)\n",
    "print('✔️ GIF guardado: droplet_slices.gif')"
   ]
  }
 ],
 "metadata": {},
 "nbformat": 4,
 "nbformat_minor": 5
}
